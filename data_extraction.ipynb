{
 "cells": [
  {
   "cell_type": "code",
   "execution_count": null,
   "id": "1a7b56f4",
   "metadata": {},
   "outputs": [
    {
     "name": "stdout",
     "output_type": "stream",
     "text": [
      "Requirement already satisfied: pandas in ./.venv/lib/python3.12/site-packages (2.2.3)\n",
      "Requirement already satisfied: numpy in ./.venv/lib/python3.12/site-packages (2.2.5)\n",
      "Requirement already satisfied: python-dateutil>=2.8.2 in ./.venv/lib/python3.12/site-packages (from pandas) (2.9.0.post0)\n",
      "Requirement already satisfied: pytz>=2020.1 in ./.venv/lib/python3.12/site-packages (from pandas) (2025.2)\n",
      "Requirement already satisfied: tzdata>=2022.7 in ./.venv/lib/python3.12/site-packages (from pandas) (2025.2)\n",
      "Requirement already satisfied: six>=1.5 in ./.venv/lib/python3.12/site-packages (from python-dateutil>=2.8.2->pandas) (1.17.0)\n"
     ]
    }
   ],
   "source": [
    "%pip install pandas numpy"
   ]
  },
  {
   "cell_type": "code",
   "execution_count": 28,
   "id": "c25da78d",
   "metadata": {},
   "outputs": [
    {
     "name": "stdout",
     "output_type": "stream",
     "text": [
      "        Image Index          Finding Labels  Follow-up #  Patient ID  \\\n",
      "0  00000001_000.png            Cardiomegaly            0           1   \n",
      "1  00000001_001.png  Cardiomegaly|Emphysema            1           1   \n",
      "2  00000001_002.png   Cardiomegaly|Effusion            2           1   \n",
      "3  00000002_000.png              No Finding            0           2   \n",
      "4  00000003_000.png                  Hernia            0           3   \n",
      "\n",
      "   Patient Age Patient Gender View Position  OriginalImage[Width  Height]  \\\n",
      "0           58              M            PA                 2682     2749   \n",
      "1           58              M            PA                 2894     2729   \n",
      "2           58              M            PA                 2500     2048   \n",
      "3           81              M            PA                 2500     2048   \n",
      "4           81              F            PA                 2582     2991   \n",
      "\n",
      "   OriginalImagePixelSpacing[x     y]  Unnamed: 11  \n",
      "0                        0.143  0.143          NaN  \n",
      "1                        0.143  0.143          NaN  \n",
      "2                        0.168  0.168          NaN  \n",
      "3                        0.171  0.171          NaN  \n",
      "4                        0.143  0.143          NaN  \n",
      "Colunas:\n",
      "Index(['Image Index', 'Finding Labels', 'Follow-up #', 'Patient ID',\n",
      "       'Patient Age', 'Patient Gender', 'View Position', 'OriginalImage[Width',\n",
      "       'Height]', 'OriginalImagePixelSpacing[x', 'y]', 'Unnamed: 11'],\n",
      "      dtype='object')\n"
     ]
    }
   ],
   "source": [
    "import pandas as pd\n",
    "\n",
    "de_df = pd.read_csv('archive/Data_Entry_2017.csv')\n",
    "\n",
    "print(de_df.head())\n",
    "\n",
    "print(\"Colunas:\")\n",
    "print(de_df.columns)"
   ]
  },
  {
   "cell_type": "code",
   "execution_count": 29,
   "id": "01624d85",
   "metadata": {},
   "outputs": [
    {
     "name": "stdout",
     "output_type": "stream",
     "text": [
      "Directory 'data/' already exists.\n"
     ]
    }
   ],
   "source": [
    "import os\n",
    "\n",
    "DATA_PATH = 'data/'\n",
    "\n",
    "if not os.path.exists(DATA_PATH):\n",
    "    os.makedirs(DATA_PATH)\n",
    "    print(f\"Directory '{DATA_PATH}' created successfully.\")\n",
    "else:\n",
    "    print(f\"Directory '{DATA_PATH}' already exists.\")"
   ]
  },
  {
   "cell_type": "code",
   "execution_count": 30,
   "id": "1c9b493c",
   "metadata": {},
   "outputs": [
    {
     "name": "stdout",
     "output_type": "stream",
     "text": [
      "Dicionário de dados criado e salvo em 'data/source_dictionary.csv'\n",
      "\\Conteúdo do dicionário:\n",
      "                 Nome da Coluna Tipo de Dado  \\\n",
      "0                   Image Index       string   \n",
      "1                Finding Labels       string   \n",
      "2                   Follow-up #      integer   \n",
      "3                    Patient ID      integer   \n",
      "4                   Patient Age      integer   \n",
      "5                Patient Gender       string   \n",
      "6                 View Position       string   \n",
      "7            OriginalImageWidth      integer   \n",
      "8           OriginalImageHeight      integer   \n",
      "9   OriginalImagePixelSpacing_x        float   \n",
      "10  OriginalImagePixelSpacing_y        float   \n",
      "\n",
      "                                            Descrição  \n",
      "0   Nome do arquivo de imagem radiográfica corresp...  \n",
      "1   Rótulos indicando a presença de achados clínic...  \n",
      "2   Número sequencial da consulta ou acompanhament...  \n",
      "3   Identificador único para cada paciente no conj...  \n",
      "4   Idade do paciente em anos no momento da realiz...  \n",
      "5   Gênero do paciente, indicado como \"M\" para Mas...  \n",
      "6   Posição em que a radiografia foi tirada, indic...  \n",
      "7   Largura da imagem radiográfica original em pix...  \n",
      "8   Altura da imagem radiográfica original em pixels.  \n",
      "9   Espaçamento entre pixels no eixo horizontal (X...  \n",
      "10  Espaçamento entre pixels no eixo vertical (Y) ...  \n"
     ]
    },
    {
     "name": "stderr",
     "output_type": "stream",
     "text": [
      "<>:50: SyntaxWarning: invalid escape sequence '\\C'\n",
      "<>:50: SyntaxWarning: invalid escape sequence '\\C'\n",
      "/tmp/ipykernel_11829/3956805989.py:50: SyntaxWarning: invalid escape sequence '\\C'\n",
      "  print(\"\\Conteúdo do dicionário:\")\n"
     ]
    }
   ],
   "source": [
    "\n",
    "data_dictionary = {\n",
    "    'Nome da Coluna': [\n",
    "        'Image Index',\n",
    "        'Finding Labels',\n",
    "        'Follow-up #',\n",
    "        'Patient ID',\n",
    "        'Patient Age',\n",
    "        'Patient Gender',\n",
    "        'View Position',\n",
    "        'OriginalImageWidth',\n",
    "        'OriginalImageHeight',\n",
    "        'OriginalImagePixelSpacing_x',\n",
    "        'OriginalImagePixelSpacing_y'\n",
    "    ],\n",
    "    'Tipo de Dado': [\n",
    "        'string',  # Nome do arquivo\n",
    "        'string',  # Rótulos de achados (pode conter '|')\n",
    "        'integer', # Número de acompanhamento\n",
    "        'integer', # ID do paciente\n",
    "        'integer', # Idade do paciente\n",
    "        'string',  # Gênero ('M' ou 'F')\n",
    "        'string',  # Posição de visualização ('PA', 'AP', etc.)\n",
    "        'integer', # Largura da imagem\n",
    "        'integer', # Altura da imagem\n",
    "        'float',   # Espaçamento pixel X\n",
    "        'float'    # Espaçamento pixel Y\n",
    "    ],\n",
    "    'Descrição': [\n",
    "        'Nome do arquivo de imagem radiográfica correspondente a esta entrada de dados.',\n",
    "        'Rótulos indicando a presença de achados clínicos ou doenças identificados na imagem. Múltiplos achados para a mesma imagem são separados por \"|\". O rótulo \"No Finding\" indica que nenhum achado foi identificado.',\n",
    "        'Número sequencial da consulta ou acompanhamento do paciente para a qual esta radiografia foi tirada. O valor 0 geralmente indica a primeira consulta ou exame base.',\n",
    "        'Identificador único para cada paciente no conjunto de dados. Permite agrupar múltiplas entradas (radiografias) pertencentes ao mesmo paciente.',\n",
    "        'Idade do paciente em anos no momento da realização da radiografia.',\n",
    "        'Gênero do paciente, indicado como \"M\" para Masculino e \"F\" para Feminino.',\n",
    "        'Posição em que a radiografia foi tirada, indicando a orientação do paciente em relação ao equipamento de raio-X. Exemplos comuns incluem \"PA\" (Posteroanterior) e \"AP\" (Anteroposterior).',\n",
    "        'Largura da imagem radiográfica original em pixels.',\n",
    "        'Altura da imagem radiográfica original em pixels.',\n",
    "        'Espaçamento entre pixels no eixo horizontal (X) da imagem original, geralmente medido em milímetros (mm).',\n",
    "        'Espaçamento entre pixels no eixo vertical (Y) da imagem original, geralmente medido em milímetros (mm).'\n",
    "    ]\n",
    "}\n",
    "\n",
    "df_dictionary = pd.DataFrame(data_dictionary)\n",
    "\n",
    "output_filename = DATA_PATH + 'source_dictionary.csv'\n",
    "\n",
    "df_dictionary.to_csv(output_filename, index=False, encoding='utf-8')\n",
    "\n",
    "print(f\"Dicionário de dados criado e salvo em '{output_filename}'\")\n",
    "print(\"\\Conteúdo do dicionário:\")\n",
    "print(df_dictionary)"
   ]
  },
  {
   "cell_type": "code",
   "execution_count": 31,
   "id": "cf782acc",
   "metadata": {},
   "outputs": [
    {
     "name": "stdout",
     "output_type": "stream",
     "text": [
      "\n",
      "Data entries após a remoção de colunas não utilizadas:\n",
      "        Image Index          Finding Labels  Patient Age Patient Gender  \\\n",
      "0  00000001_000.png            Cardiomegaly           58              M   \n",
      "1  00000001_001.png  Cardiomegaly|Emphysema           58              M   \n",
      "2  00000001_002.png   Cardiomegaly|Effusion           58              M   \n",
      "3  00000002_000.png              No Finding           81              M   \n",
      "4  00000003_000.png                  Hernia           81              F   \n",
      "\n",
      "  View Position  \n",
      "0            PA  \n",
      "1            PA  \n",
      "2            PA  \n",
      "3            PA  \n",
      "4            PA  \n"
     ]
    }
   ],
   "source": [
    "columns_to_drop = [\n",
    "    'Follow-up #',\n",
    "    'Patient ID',\n",
    "    'OriginalImage[Width',\n",
    "    'Height]',\n",
    "    'OriginalImagePixelSpacing[x',\n",
    "    'y]',\n",
    "    'Unnamed: 11'\n",
    "]\n",
    "\n",
    "de_df.drop(columns=columns_to_drop, axis=1, inplace=True)\n",
    "\n",
    "\n",
    "print(\"\\nData entries após a remoção de colunas não utilizadas:\")\n",
    "print(de_df.head())"
   ]
  },
  {
   "cell_type": "code",
   "execution_count": 32,
   "id": "d699aab6",
   "metadata": {},
   "outputs": [
    {
     "name": "stdout",
     "output_type": "stream",
     "text": [
      "Contagem de ocorrências:\n",
      "Finding Labels\n",
      "No Finding            60361\n",
      "Infiltration          19894\n",
      "Effusion              13317\n",
      "Atelectasis           11559\n",
      "Nodule                 6331\n",
      "Mass                   5782\n",
      "Pneumothorax           5302\n",
      "Consolidation          4667\n",
      "Pleural_Thickening     3385\n",
      "Cardiomegaly           2776\n",
      "Emphysema              2516\n",
      "Edema                  2303\n",
      "Fibrosis               1686\n",
      "Pneumonia              1431\n",
      "Hernia                  227\n",
      "Name: count, dtype: int64\n"
     ]
    }
   ],
   "source": [
    "import pandas as pd\n",
    "\n",
    "finding_labels_series = de_df['Finding Labels']\n",
    "\n",
    "split_labels = finding_labels_series.str.split('|')\n",
    "\n",
    "all_individual_labels = split_labels.explode()\n",
    "\n",
    "disease_counts = all_individual_labels.value_counts()\n",
    "\n",
    "print(\"Contagem de ocorrências:\")\n",
    "print(disease_counts)"
   ]
  },
  {
   "cell_type": "code",
   "execution_count": 33,
   "id": "46afbb1f",
   "metadata": {},
   "outputs": [
    {
     "name": "stdout",
     "output_type": "stream",
     "text": [
      "\n",
      "Head de 'selected_df' contendo entries 'Effusion':\n",
      "         Image Index Finding Labels  Patient Age Patient Gender View Position\n",
      "2   00000001_002.png       Effusion           58              M            PA\n",
      "20  00000005_007.png       Effusion           70              F            PA\n",
      "28  00000011_000.png       Effusion           75              M            PA\n",
      "37  00000012_000.png       Effusion           76              M            PA\n",
      "42  00000013_004.png       Effusion           60              M            AP\n",
      "\n",
      "Tamanho dataset origem: 112120\n",
      "Quantidade de entradas para 'Effusion': 13317\n"
     ]
    }
   ],
   "source": [
    "selected_df = de_df[de_df['Finding Labels'].str.contains('Effusion')].copy()\n",
    "selected_df['Finding Labels'] = 'Effusion'\n",
    "print(\"\\nHead de 'selected_df' contendo entries 'Effusion':\")\n",
    "print(selected_df.head())\n",
    "print(f\"\\nTamanho dataset origem: {len(de_df)}\")\n",
    "print(f\"Quantidade de entradas para 'Effusion': {len(selected_df)}\")\n"
   ]
  },
  {
   "cell_type": "code",
   "execution_count": 34,
   "id": "b6bfabc1",
   "metadata": {},
   "outputs": [
    {
     "name": "stdout",
     "output_type": "stream",
     "text": [
      "\n",
      "Contagem de entradas por posição:\n",
      "Posição 'PA': 6589\n",
      "Posição 'AP': 6728\n"
     ]
    }
   ],
   "source": [
    "pa_count = (selected_df['View Position'] == 'PA').sum()\n",
    "ap_count = (selected_df['View Position'] == 'AP').sum()\n",
    "\n",
    "print(f\"\\nContagem de entradas por posição:\")\n",
    "print(f\"Posição 'PA': {pa_count}\")\n",
    "print(f\"Posição 'AP': {ap_count}\")\n"
   ]
  },
  {
   "cell_type": "code",
   "execution_count": 35,
   "id": "f531a00d",
   "metadata": {},
   "outputs": [
    {
     "name": "stdout",
     "output_type": "stream",
     "text": [
      "\n",
      "Head do dataframe balanceado:\n",
      "        Image Index Finding Labels  Patient Age Patient Gender View Position\n",
      "0  00000001_002.png       Effusion           58              M            PA\n",
      "1  00000005_007.png       Effusion           70              F            PA\n",
      "2  00000011_000.png       Effusion           75              M            PA\n",
      "3  00000012_000.png       Effusion           76              M            PA\n",
      "4  00000013_004.png       Effusion           60              M            AP\n",
      "\n",
      "Número de entries: 26634\n",
      "Finding Labels\n",
      "Effusion      13317\n",
      "No Finding    13317\n",
      "Name: count, dtype: int64\n",
      "View Position\n",
      "AP    13456\n",
      "PA    13178\n",
      "Name: count, dtype: int64\n"
     ]
    }
   ],
   "source": [
    "\n",
    "no_finding_df = de_df[de_df['Finding Labels'] == 'No Finding'].copy()\n",
    "\n",
    "# Amostra 'No Finding' e 'PA'\n",
    "pa_no_finding_sample = pd.DataFrame() \n",
    "if pa_count > 0:\n",
    "    pa_no_finding_subset = no_finding_df[no_finding_df['View Position'] == 'PA']\n",
    "    \n",
    "    if len(pa_no_finding_subset) >= pa_count:\n",
    "        pa_no_finding_sample = pa_no_finding_subset.sample(n=pa_count, random_state=42) # random_state for reproducibility\n",
    "    else:\n",
    "        print(f\"Warning: Não existem elementos 'No Finding' + 'PA'  ({len(pa_no_finding_subset)}) para criar uma amostra de {pa_count}. Selecionando todos os existentes.\")\n",
    "        pa_no_finding_sample = pa_no_finding_subset.copy()\n",
    "\n",
    "\n",
    "# Amostra 'No Finding' e 'AP'\n",
    "ap_no_finding_sample = pd.DataFrame()\n",
    "if ap_count > 0:\n",
    "    ap_no_finding_subset = no_finding_df[no_finding_df['View Position'] == 'AP']\n",
    "\n",
    "    if len(ap_no_finding_subset) >= ap_count:\n",
    "            ap_no_finding_sample = ap_no_finding_subset.sample(n=ap_count, random_state=42) # random_state for reproducibility\n",
    "    else:\n",
    "            print(f\"Warning: Não existem elementos 'No Finding' + 'PA'  ({len(ap_no_finding_sample)}) para criar uma amostra de {ap_count}. Selecionando todos os existentes.\")\n",
    "            ap_no_finding_sample = ap_no_finding_subset.copy()\n",
    "\n",
    "\n",
    "\n",
    "final_balanced_df = pd.concat([selected_df, pa_no_finding_sample, ap_no_finding_sample], ignore_index=True)\n",
    "\n",
    "print(\"\\nHead do dataframe balanceado:\")\n",
    "print(final_balanced_df.head())\n",
    "\n",
    "print(f\"\\nNúmero de entries: {len(final_balanced_df)}\")\n",
    "print(final_balanced_df['Finding Labels'].value_counts())\n",
    "print(final_balanced_df['View Position'].value_counts())"
   ]
  },
  {
   "cell_type": "code",
   "execution_count": 36,
   "id": "0b2dcc77",
   "metadata": {},
   "outputs": [
    {
     "name": "stdout",
     "output_type": "stream",
     "text": [
      "\n",
      "Dataframe balanceado após remap:\n",
      "        Image Index  Finding Labels  Patient Age  Patient Gender  \\\n",
      "0  00000001_002.png               1           58               0   \n",
      "1  00000005_007.png               1           70               1   \n",
      "2  00000011_000.png               1           75               0   \n",
      "3  00000012_000.png               1           76               0   \n",
      "4  00000013_004.png               1           60               0   \n",
      "\n",
      "   View Position  \n",
      "0              0  \n",
      "1              0  \n",
      "2              0  \n",
      "3              0  \n",
      "4              1  \n",
      "Image Index       object\n",
      "Finding Labels     int64\n",
      "Patient Age        int64\n",
      "Patient Gender     int64\n",
      "View Position      int64\n",
      "dtype: object\n"
     ]
    }
   ],
   "source": [
    "finding_labels_map = {'No Finding': 0, 'Effusion': 1}\n",
    "gender_map = {'M': 0, 'F': 1}\n",
    "view_position_map = {'PA': 0, 'AP': 1}\n",
    "\n",
    "final_balanced_df['Finding Labels'] = final_balanced_df['Finding Labels'].map(finding_labels_map)\n",
    "final_balanced_df['Patient Gender'] = final_balanced_df['Patient Gender'].map(gender_map)\n",
    "final_balanced_df['View Position'] = final_balanced_df['View Position'].map(view_position_map)\n",
    "\n",
    "print(\"\\nDataframe balanceado após remap:\")\n",
    "print(final_balanced_df.head())\n",
    "\n",
    "print(final_balanced_df.dtypes)"
   ]
  },
  {
   "cell_type": "code",
   "execution_count": 37,
   "id": "14c3f382",
   "metadata": {},
   "outputs": [
    {
     "name": "stdout",
     "output_type": "stream",
     "text": [
      "Salvando data_entry e dicionário no diretório data/\n"
     ]
    }
   ],
   "source": [
    "\n",
    "print(\"Salvando data_entry e dicionário no diretório data/\")\n",
    "data_filepath = os.path.join(DATA_PATH, 'data_entry.csv')\n",
    "\n",
    "final_balanced_df.to_csv(data_filepath, index=False)\n",
    "\n",
    "\n",
    "data_dictionary_data = {\n",
    "    'Nome da Coluna': [],\n",
    "    'Tipo de Dado': [],\n",
    "    'Descrição dos Valores (quando aplicável)': []\n",
    "}\n",
    "\n",
    "\n",
    "for col_name, dtype in final_balanced_df.dtypes.items():\n",
    "    data_dictionary_data['Nome da Coluna'].append(col_name)\n",
    "    data_dictionary_data['Tipo de Dado'].append(dtype)\n",
    "\n",
    "    if col_name == 'Finding Labels':\n",
    "        data_dictionary_data['Descrição dos Valores (quando aplicável)'].append(\"0: Sem achado ('No Finding'), 1: Efusão ('Effusion')\")\n",
    "    elif col_name == 'Patient Gender':\n",
    "        data_dictionary_data['Descrição dos Valores (quando aplicável)'].append(\"0: Masculino ('M'), 1: Feminino ('F')\")\n",
    "    elif col_name == 'View Position':\n",
    "        data_dictionary_data['Descrição dos Valores (quando aplicável)'].append(\"0: Posteroanterior ('PA'), 1: Anteroposterior ('AP')\")\n",
    "    else:\n",
    "        if col_name == 'Image Index':\n",
    "             data_dictionary_data['Descrição dos Valores (quando aplicável)'].append(\"Nome do arquivo de imagem\")\n",
    "        elif col_name == 'Patient Age':\n",
    "             data_dictionary_data['Descrição dos Valores (quando aplicável)'].append(\"Idade do paciente em anos\")\n",
    "        else:\n",
    "             data_dictionary_data['Descrição dos Valores (quando aplicável)'].append(\"N/A\")\n",
    "\n",
    "\n",
    "data_dictionary_df = pd.DataFrame(data_dictionary_data)\n",
    "\n",
    "data_dictionary_filepath = os.path.join(DATA_PATH, 'data_dictionary.csv')\n",
    "data_dictionary_df.to_csv(data_dictionary_filepath, index=False, encoding='utf-8')\n"
   ]
  }
 ],
 "metadata": {
  "kernelspec": {
   "display_name": ".venv",
   "language": "python",
   "name": "python3"
  },
  "language_info": {
   "codemirror_mode": {
    "name": "ipython",
    "version": 3
   },
   "file_extension": ".py",
   "mimetype": "text/x-python",
   "name": "python",
   "nbconvert_exporter": "python",
   "pygments_lexer": "ipython3",
   "version": "3.12.3"
  }
 },
 "nbformat": 4,
 "nbformat_minor": 5
}
